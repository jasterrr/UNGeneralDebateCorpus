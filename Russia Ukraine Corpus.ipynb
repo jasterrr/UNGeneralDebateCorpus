{
 "cells": [
  {
   "cell_type": "code",
   "execution_count": 26,
   "metadata": {},
   "outputs": [],
   "source": [
    "import os\n",
    "import fnmatch\n",
    "import re\n",
    "import pandas as pd\n",
    "import glob"
   ]
  },
  {
   "cell_type": "code",
   "execution_count": 27,
   "metadata": {},
   "outputs": [
    {
     "name": "stdout",
     "output_type": "stream",
     "text": [
      "349\n"
     ]
    }
   ],
   "source": [
    "bucket=[]\n",
    "root = '/Users/sstergiou/Downloads/TXT/'\n",
    "pattern = \"*.txt\"\n",
    "i = 0\n",
    "for path, subdirs, files in os.walk(root):\n",
    "    for name in files:   \n",
    "        if fnmatch.fnmatch(name,pattern):\n",
    "            bucket.append(os.path.join(path,name))\n",
    "number_of_files = len(bucket)\n",
    "print(number_of_files)"
   ]
  },
  {
   "cell_type": "code",
   "execution_count": 28,
   "metadata": {},
   "outputs": [],
   "source": [
    "df = pd.DataFrame(columns=['filename','exists','rn'])\n",
    "\n",
    "datadict = {\n",
    "    'filename':[],\n",
    "    'exists': [],\n",
    "    'rn':[],\n",
    "}\n",
    "\n",
    "UnitedNationsCorpus = ['filename','exists','rn']\n"
   ]
  },
  {
   "cell_type": "code",
   "execution_count": null,
   "metadata": {},
   "outputs": [],
   "source": []
  }
 ],
 "metadata": {
  "kernelspec": {
   "display_name": "Python 3 (ipykernel)",
   "language": "python",
   "name": "python3"
  },
  "language_info": {
   "codemirror_mode": {
    "name": "ipython",
    "version": 3
   },
   "file_extension": ".py",
   "mimetype": "text/x-python",
   "name": "python",
   "nbconvert_exporter": "python",
   "pygments_lexer": "ipython3",
   "version": "3.9.7"
  }
 },
 "nbformat": 4,
 "nbformat_minor": 4
}
